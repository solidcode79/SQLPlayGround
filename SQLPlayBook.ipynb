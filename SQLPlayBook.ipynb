{
 "cells": [
  {
   "cell_type": "code",
   "execution_count": 1,
   "metadata": {},
   "outputs": [
    {
     "name": "stdout",
     "output_type": "stream",
     "text": [
      "[('albums',), ('sqlite_sequence',), ('artists',), ('customers',), ('employees',), ('genres',), ('invoices',), ('invoice_items',), ('media_types',), ('playlists',), ('playlist_track',), ('tracks',), ('sqlite_stat1',)]\n"
     ]
    }
   ],
   "source": [
    "# Load and print tables available in the database\n",
    "import sqlite3\n",
    "connection = sqlite3.connect(\"chinook/chinook.sqlite\")\n",
    "cursor = connection.cursor()\n",
    "sql_query = \"\"\"SELECT name FROM sqlite_master WHERE type='table';\"\"\"\n",
    "cursor.execute(sql_query)\n",
    "print(cursor.fetchall())"
   ]
  },
  {
   "cell_type": "markdown",
   "metadata": {},
   "source": [
    "# To Remember\n",
    "## SQL query processing order\n",
    "- FROM -> firstly set the source data, which could be a table, a view another SELECT etc.\n",
    "- WHERE -> then apply row filter\n",
    "- GROUPBY -> group\n",
    "- HAVING -> filter on entire groups\n",
    "- SELECT -> evalutate each row and outputs the table (all the data)\n",
    "- ORDER BY -> output ordering\n",
    "- OFFSET FETCH -> Paging to show (like api/1, api/2 etc do this)"
   ]
  },
  {
   "cell_type": "code",
   "execution_count": null,
   "metadata": {},
   "outputs": [],
   "source": [
    "# Print invoice header \n",
    "sql_query = \"\"\"SELECT * FROM invoices;\"\"\"\n",
    "cursor.execute(sql_query)\n",
    "invoice_headers = [h[0] for h in cursor.description]\n",
    "print(\"Print invoice header\")\n",
    "print(invoice_headers)\n",
    "\n",
    "# Print row count\n",
    "sql_query = \"\"\"SELECT COUNT(*) FROM invoices;\"\"\"\n",
    "cursor.execute(sql_query)\n",
    "print(\"Print row count\")\n",
    "print(cursor.fetchall())\n",
    "\n",
    "# which countries have the most Invoices?\n",
    "sql_query = \"\"\"SELECT COUNT(InvoiceId), BillingCountry FROM invoices GROUP BY BillingCountry ORDER BY COUNT(InvoiceId) DESC;\"\"\"\n",
    "cursor.execute(sql_query)\n",
    "print(\"Which countries have the most Invoices?\")\n",
    "print(cursor.fetchall())\n"
   ]
  },
  {
   "cell_type": "code",
   "execution_count": null,
   "metadata": {},
   "outputs": [],
   "source": [
    "# The one city that has the highest sum of invoice totals\n",
    "\n",
    "sql_query = \"\"\"SELECT BillingCity, SUM(Total) FROM invoices GROUP BY BillingCity ORDER BY SUM(Total) DESC;\"\"\"\n",
    "cursor.execute(sql_query)\n",
    "print(\"The one city that has the highest sum of invoice totals\")\n",
    "print(cursor.fetchone())\n"
   ]
  },
  {
   "cell_type": "code",
   "execution_count": 3,
   "metadata": {},
   "outputs": [
    {
     "name": "stdout",
     "output_type": "stream",
     "text": [
      "Print invoice header\n",
      "['InvoiceId', 'CustomerId', 'InvoiceDate', 'BillingAddress', 'BillingCity', 'BillingState', 'BillingCountry', 'BillingPostalCode', 'Total']\n",
      "Print Customer header\n",
      "['CustomerId', 'FirstName', 'LastName', 'Company', 'Address', 'City', 'State', 'Country', 'PostalCode', 'Phone', 'Fax', 'Email', 'SupportRepId']\n",
      "\n",
      "find customer who has spent the most money\n",
      "JOIN first, filter later\n",
      "[('Helena', 'Holý', 49.620000000000005), ('Richard', 'Cunningham', 47.620000000000005), ('Luis', 'Rojas', 46.62), ('Ladislav', 'Kovács', 45.62), ('Hugh', \"O'Reilly\", 45.62)]\n",
      "\n",
      "Filter first, JOIN later\n",
      "[('Helena', 'Holý', 49.620000000000005), ('Richard', 'Cunningham', 47.620000000000005), ('Luis', 'Rojas', 46.62), ('Ladislav', 'Kovács', 45.62), ('Hugh', \"O'Reilly\", 45.62)]\n"
     ]
    }
   ],
   "source": [
    "# find customer who has spent the most money\n",
    "\n",
    "# Print invoice header \n",
    "sql_query = \"\"\"SELECT * FROM invoices;\"\"\"\n",
    "cursor.execute(sql_query)\n",
    "invoice_headers = [h[0] for h in cursor.description]\n",
    "print(\"Print invoice header\")\n",
    "print(invoice_headers)\n",
    "\n",
    "sql_query = \"\"\"SELECT * FROM customers\"\"\"\n",
    "\n",
    "cursor.execute(sql_query)\n",
    "customer_headers = [h[0] for h in cursor.description]\n",
    "print(\"Print Customer header\")\n",
    "print(customer_headers)\n",
    "print(\"\")\n",
    "print(\"find customer who has spent the most money\")\n",
    "\n",
    "# JOIN first, filter later\n",
    "# Use AS to create alias for both tables and access left.var and right.var to cut out the ambiguity\n",
    "sql_query = \"\"\"SELECT right.FirstName, right.Lastname, SUM(left.Total) FROM invoices AS left \n",
    "             JOIN customers AS right ON left.CustomerId = right.CustomerId\n",
    "             GROUP BY left.CustomerId\n",
    "             ORDER BY SUM(left.Total) DESC\n",
    "             LIMIT 5\"\"\"\n",
    "cursor.execute(sql_query)\n",
    "print(\"JOIN first, filter later\")\n",
    "print(cursor.fetchall())\n",
    "\n",
    "\n",
    "print(\"\")\n",
    "\n",
    "# Filter first, JOIN later\n",
    "sql_query = \"\"\"SELECT right.FirstName, right.LastName, temp.tTotal\n",
    "            FROM (SELECT CustomerId, SUM(Total) AS tTotal FROM invoices GROUP BY CustomerId ORDER BY SUM(Total) DESC LIMIT 5) as temp\n",
    "            JOIN customers AS right ON temp.CustomerId = right.CustomerId\"\"\"\n",
    "cursor.execute(sql_query)\n",
    "print(\"Filter first, JOIN later\")\n",
    "print(cursor.fetchall())"
   ]
  },
  {
   "cell_type": "markdown",
   "metadata": {},
   "source": [
    "#### From https://www.kaggle.com/code/alaasedeeq/chinook-questions-with-sqlite/notebook\n",
    "1-Provide a query showing Customers (just their full names, customer ID and country) who are not in the US.\n",
    "2-Provide a query only showing the Customers from Brazil.\n",
    "3-Provide a query showing the Invoices of customers who are from Brazil. The resultant table should show the customer's full name, Invoice ID, Date of the invoice and billing country.\n",
    "4-Provide a query showing only the Employees who are Sales Agents.\n",
    "4-Provide a query showing a unique list of billing countries from the Invoice table.\n",
    "5-Provide a query that shows the invoices associated with each sales agent. The resultant table should include the Sales Agent's full name.¶\n",
    "6-Provide a query that shows the Invoice Total, Customer name, Country and Sale Agent name for all invoices and customers.\n",
    "7-How many Invoices were there in 2009 and 2011? What are the respective total sales for each of those years?\n",
    "8-Looking at the InvoiceLine table, provide a query that COUNTs the number of line items for Invoice ID 37.\n",
    "9-Looking at the InvoiceLine table, provide a query that COUNTs the number of line items for each Invoice.\n",
    "10-Provide a query that includes the track name with each invoice line item.\n",
    "11-Provide a query that includes the purchased track name AND artist name with each invoice line item.\n",
    "12-Provide a query that shows the number of invoices per country.\n",
    "13-Provide a query that shows the total number of tracks in each playlist. The Playlist name should be included on the resultant table.\n",
    "14-Provide a query that shows all the Tracks, but displays no IDs. The resultant table should include the Album name, Media type and Genre.\n",
    "15-Provide a query that shows all Invoices but includes the number of invoice line items.\n",
    "16-Provide a query that shows total sales made by each sales agent.\n",
    "17-Provide a query that shows the total sales per country. Which country's customers spent the most?\n",
    "18-Which sales agent made the most in sales in 2009?\n",
    "19-Which sales agent made the most in sales in 2010?\n",
    "20-Which sales agent made the most in sales over all?\n",
    "21-Provide a query that shows the most purchased track of 2013.\n",
    "22-Provide a query that shows the top 5 most purchased tracks over all.\n",
    "23-Provide a query that shows the top 3 best selling artists."
   ]
  },
  {
   "cell_type": "code",
   "execution_count": 5,
   "metadata": {},
   "outputs": [
    {
     "name": "stdout",
     "output_type": "stream",
     "text": [
      "Filter first, JOIN later\n",
      "[('Luís', 'Gonçalves', 1, 'Brazil'), ('Leonie', 'Köhler', 2, 'Germany'), ('François', 'Tremblay', 3, 'Canada'), ('Bjørn', 'Hansen', 4, 'Norway'), ('František', 'Wichterlová', 5, 'Czech Republic'), ('Helena', 'Holý', 6, 'Czech Republic'), ('Astrid', 'Gruber', 7, 'Austria'), ('Daan', 'Peeters', 8, 'Belgium'), ('Kara', 'Nielsen', 9, 'Denmark'), ('Eduardo', 'Martins', 10, 'Brazil'), ('Alexandre', 'Rocha', 11, 'Brazil'), ('Roberto', 'Almeida', 12, 'Brazil'), ('Fernanda', 'Ramos', 13, 'Brazil'), ('Mark', 'Philips', 14, 'Canada'), ('Jennifer', 'Peterson', 15, 'Canada'), ('Robert', 'Brown', 29, 'Canada'), ('Edward', 'Francis', 30, 'Canada'), ('Martha', 'Silk', 31, 'Canada'), ('Aaron', 'Mitchell', 32, 'Canada'), ('Ellie', 'Sullivan', 33, 'Canada'), ('João', 'Fernandes', 34, 'Portugal'), ('Madalena', 'Sampaio', 35, 'Portugal'), ('Hannah', 'Schneider', 36, 'Germany'), ('Fynn', 'Zimmermann', 37, 'Germany'), ('Niklas', 'Schröder', 38, 'Germany'), ('Camille', 'Bernard', 39, 'France'), ('Dominique', 'Lefebvre', 40, 'France'), ('Marc', 'Dubois', 41, 'France'), ('Wyatt', 'Girard', 42, 'France'), ('Isabelle', 'Mercier', 43, 'France'), ('Terhi', 'Hämäläinen', 44, 'Finland'), ('Ladislav', 'Kovács', 45, 'Hungary'), ('Hugh', \"O'Reilly\", 46, 'Ireland'), ('Lucas', 'Mancini', 47, 'Italy'), ('Johannes', 'Van der Berg', 48, 'Netherlands'), ('Stanisław', 'Wójcik', 49, 'Poland'), ('Enrique', 'Muñoz', 50, 'Spain'), ('Joakim', 'Johansson', 51, 'Sweden'), ('Emma', 'Jones', 52, 'United Kingdom'), ('Phil', 'Hughes', 53, 'United Kingdom'), ('Steve', 'Murray', 54, 'United Kingdom'), ('Mark', 'Taylor', 55, 'Australia'), ('Diego', 'Gutiérrez', 56, 'Argentina'), ('Luis', 'Rojas', 57, 'Chile'), ('Manoj', 'Pareek', 58, 'India'), ('Puja', 'Srivastava', 59, 'India')]\n"
     ]
    }
   ],
   "source": [
    "# 1-Provide a query showing Customers (just their full names, customer ID and country) who are not in the US.\n",
    "\n",
    "sql_query = \"\"\"SELECT FirstName, LastName, CustomerId, Country FROM customers WHERE Country IS NOT 'USA';\"\"\"\n",
    "cursor.execute(sql_query)\n",
    "print(cursor.fetchall())"
   ]
  },
  {
   "cell_type": "code",
   "execution_count": 8,
   "metadata": {},
   "outputs": [
    {
     "name": "stdout",
     "output_type": "stream",
     "text": [
      "Filter first, JOIN later\n",
      "[('Luís', 'Gonçalves', 1, 'Brazil'), ('Eduardo', 'Martins', 10, 'Brazil'), ('Alexandre', 'Rocha', 11, 'Brazil'), ('Roberto', 'Almeida', 12, 'Brazil'), ('Fernanda', 'Ramos', 13, 'Brazil')]\n"
     ]
    }
   ],
   "source": [
    "# 2-Provide a query only showing the Customers from Brazil.\n",
    "sql_query = \"\"\"SELECT FirstName, LastName, CustomerId, Country FROM customers WHERE Country IS 'Brazil';\"\"\"\n",
    "cursor.execute(sql_query)\n",
    "print(cursor.fetchall())"
   ]
  },
  {
   "cell_type": "code",
   "execution_count": 16,
   "metadata": {},
   "outputs": [
    {
     "name": "stdout",
     "output_type": "stream",
     "text": [
      "[('Luís', 'Gonçalves', 1, 98, '2010-03-11 00:00:00', 'Brazil'), ('Luís', 'Gonçalves', 1, 121, '2010-06-13 00:00:00', 'Brazil'), ('Luís', 'Gonçalves', 1, 143, '2010-09-15 00:00:00', 'Brazil'), ('Luís', 'Gonçalves', 1, 195, '2011-05-06 00:00:00', 'Brazil'), ('Luís', 'Gonçalves', 1, 316, '2012-10-27 00:00:00', 'Brazil'), ('Luís', 'Gonçalves', 1, 327, '2012-12-07 00:00:00', 'Brazil'), ('Luís', 'Gonçalves', 1, 382, '2013-08-07 00:00:00', 'Brazil'), ('Eduardo', 'Martins', 10, 25, '2009-04-09 00:00:00', 'Brazil'), ('Eduardo', 'Martins', 10, 154, '2010-11-14 00:00:00', 'Brazil'), ('Eduardo', 'Martins', 10, 177, '2011-02-16 00:00:00', 'Brazil'), ('Eduardo', 'Martins', 10, 199, '2011-05-21 00:00:00', 'Brazil'), ('Eduardo', 'Martins', 10, 251, '2012-01-09 00:00:00', 'Brazil'), ('Eduardo', 'Martins', 10, 372, '2013-07-02 00:00:00', 'Brazil'), ('Eduardo', 'Martins', 10, 383, '2013-08-12 00:00:00', 'Brazil'), ('Alexandre', 'Rocha', 11, 57, '2009-09-06 00:00:00', 'Brazil'), ('Alexandre', 'Rocha', 11, 68, '2009-10-17 00:00:00', 'Brazil'), ('Alexandre', 'Rocha', 11, 123, '2010-06-17 00:00:00', 'Brazil'), ('Alexandre', 'Rocha', 11, 252, '2012-01-22 00:00:00', 'Brazil'), ('Alexandre', 'Rocha', 11, 275, '2012-04-25 00:00:00', 'Brazil'), ('Alexandre', 'Rocha', 11, 297, '2012-07-28 00:00:00', 'Brazil'), ('Alexandre', 'Rocha', 11, 349, '2013-03-18 00:00:00', 'Brazil'), ('Roberto', 'Almeida', 12, 34, '2009-05-23 00:00:00', 'Brazil'), ('Roberto', 'Almeida', 12, 155, '2010-11-14 00:00:00', 'Brazil'), ('Roberto', 'Almeida', 12, 166, '2010-12-25 00:00:00', 'Brazil'), ('Roberto', 'Almeida', 12, 221, '2011-08-25 00:00:00', 'Brazil'), ('Roberto', 'Almeida', 12, 350, '2013-03-31 00:00:00', 'Brazil'), ('Roberto', 'Almeida', 12, 373, '2013-07-03 00:00:00', 'Brazil'), ('Roberto', 'Almeida', 12, 395, '2013-10-05 00:00:00', 'Brazil'), ('Fernanda', 'Ramos', 13, 35, '2009-06-05 00:00:00', 'Brazil'), ('Fernanda', 'Ramos', 13, 58, '2009-09-07 00:00:00', 'Brazil'), ('Fernanda', 'Ramos', 13, 80, '2009-12-10 00:00:00', 'Brazil'), ('Fernanda', 'Ramos', 13, 132, '2010-07-31 00:00:00', 'Brazil'), ('Fernanda', 'Ramos', 13, 253, '2012-01-22 00:00:00', 'Brazil'), ('Fernanda', 'Ramos', 13, 264, '2012-03-03 00:00:00', 'Brazil'), ('Fernanda', 'Ramos', 13, 319, '2012-11-01 00:00:00', 'Brazil')]\n"
     ]
    }
   ],
   "source": [
    "# 3-Provide a query showing the Invoices of customers who are from Brazil. The resultant table should show the customer's full name, Invoice ID, Date of the invoice and billing country.\n",
    "sql_query = \"\"\"SELECT c.FirstName, c.LastName, i.CustomerId, i.InvoiceId, i.InvoiceDate, i.BillingCountry FROM invoices AS i\n",
    "             JOIN customers AS c ON i.CustomerId = c.CustomerId \n",
    "             WHERE c.Country IS 'Brazil';\"\"\"\n",
    "cursor.execute(sql_query)\n",
    "print(cursor.fetchall())"
   ]
  },
  {
   "cell_type": "code",
   "execution_count": 22,
   "metadata": {},
   "outputs": [
    {
     "name": "stdout",
     "output_type": "stream",
     "text": [
      "Print invoice header\n",
      "['EmployeeId', 'LastName', 'FirstName', 'Title', 'ReportsTo', 'BirthDate', 'HireDate', 'Address', 'City', 'State', 'Country', 'PostalCode', 'Phone', 'Fax', 'Email']\n",
      "[(3, 'Peacock', 'Jane', 'Sales Support Agent', 2, '1973-08-29 00:00:00', '2002-04-01 00:00:00', '1111 6 Ave SW', 'Calgary', 'AB', 'Canada', 'T2P 5M5', '+1 (403) 262-3443', '+1 (403) 262-6712', 'jane@chinookcorp.com'), (4, 'Park', 'Margaret', 'Sales Support Agent', 2, '1947-09-19 00:00:00', '2003-05-03 00:00:00', '683 10 Street SW', 'Calgary', 'AB', 'Canada', 'T2P 5G3', '+1 (403) 263-4423', '+1 (403) 263-4289', 'margaret@chinookcorp.com'), (5, 'Johnson', 'Steve', 'Sales Support Agent', 2, '1965-03-03 00:00:00', '2003-10-17 00:00:00', '7727B 41 Ave', 'Calgary', 'AB', 'Canada', 'T3B 1Y7', '1 (780) 836-9987', '1 (780) 836-9543', 'steve@chinookcorp.com')]\n"
     ]
    }
   ],
   "source": [
    "# 4-Provide a query showing only the Employees who are Sales Agents.\n",
    "# Print employees header \n",
    "sql_query = \"\"\"SELECT * FROM employees WHERE Title like \"%Sales%Agent%\";\"\"\"\n",
    "cursor.execute(sql_query)\n",
    "employees_headers = [h[0] for h in cursor.description]\n",
    "print(\"Print invoice header\")\n",
    "print(employees_headers)\n",
    "cursor.execute(sql_query)\n",
    "print(cursor.fetchall())"
   ]
  },
  {
   "cell_type": "code",
   "execution_count": null,
   "metadata": {},
   "outputs": [],
   "source": []
  }
 ],
 "metadata": {
  "kernelspec": {
   "display_name": "Python 3",
   "language": "python",
   "name": "python3"
  },
  "language_info": {
   "codemirror_mode": {
    "name": "ipython",
    "version": 3
   },
   "file_extension": ".py",
   "mimetype": "text/x-python",
   "name": "python",
   "nbconvert_exporter": "python",
   "pygments_lexer": "ipython3",
   "version": "3.7.3"
  }
 },
 "nbformat": 4,
 "nbformat_minor": 2
}
