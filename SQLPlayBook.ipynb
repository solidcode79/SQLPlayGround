{
 "cells": [
  {
   "cell_type": "code",
   "execution_count": null,
   "metadata": {},
   "outputs": [],
   "source": [
    "# Load and print tables available in the database\n",
    "import sqlite3\n",
    "connection = sqlite3.connect(\"chinook/chinook.db\")\n",
    "cursor = connection.cursor()\n",
    "sql_query = \"\"\"SELECT name FROM sqlite_master WHERE type='table';\"\"\"\n",
    "cursor.execute(sql_query)\n",
    "print(cursor.fetchall())"
   ]
  },
  {
   "cell_type": "code",
   "execution_count": null,
   "metadata": {},
   "outputs": [],
   "source": [
    "# Print invoice header \n",
    "sql_query = \"\"\"SELECT * FROM invoices;\"\"\"\n",
    "cursor.execute(sql_query)\n",
    "invoice_headers = [h[0] for h in cursor.description]\n",
    "print(\"Print invoice header\")\n",
    "print(invoice_headers)\n",
    "\n",
    "# Print row count\n",
    "sql_query = \"\"\"SELECT COUNT(*) FROM invoices;\"\"\"\n",
    "cursor.execute(sql_query)\n",
    "print(\"Print row count\")\n",
    "print(cursor.fetchall())\n",
    "\n",
    "# which countries have the most Invoices?\n",
    "sql_query = \"\"\"SELECT COUNT(InvoiceId), BillingCountry FROM invoices GROUP BY BillingCountry ORDER BY COUNT(InvoiceId) DESC;\"\"\"\n",
    "cursor.execute(sql_query)\n",
    "print(\"Which countries have the most Invoices?\")\n",
    "print(cursor.fetchall())\n"
   ]
  },
  {
   "cell_type": "code",
   "execution_count": null,
   "metadata": {},
   "outputs": [],
   "source": [
    "# The one city that has the highest sum of invoice totals\n",
    "\n",
    "sql_query = \"\"\"SELECT BillingCity, SUM(Total) FROM invoices GROUP BY BillingCity ORDER BY SUM(Total) DESC;\"\"\"\n",
    "cursor.execute(sql_query)\n",
    "print(\"The one city that has the highest sum of invoice totals\")\n",
    "print(cursor.fetchone())\n"
   ]
  },
  {
   "cell_type": "code",
   "execution_count": null,
   "metadata": {},
   "outputs": [],
   "source": [
    "# find customer who has spent the most money\n",
    "\n",
    "# Print invoice header \n",
    "sql_query = \"\"\"SELECT * FROM invoices;\"\"\"\n",
    "cursor.execute(sql_query)\n",
    "invoice_headers = [h[0] for h in cursor.description]\n",
    "print(\"Print invoice header\")\n",
    "print(invoice_headers)\n",
    "\n",
    "sql_query = \"\"\"SELECT * FROM customers\"\"\"\n",
    "\n",
    "cursor.execute(sql_query)\n",
    "customer_headers = [h[0] for h in cursor.description]\n",
    "print(\"Print Customer header\")\n",
    "print(customer_headers)\n",
    "print(\"\")\n",
    "print(\"find customer who has spent the most money\")\n",
    "\n",
    "# JOIN first, filter later\n",
    "# Use AS to create alias for both tables and access left.var and right.var to cut out the ambiguity\n",
    "sql_query = \"\"\"SELECT right.FirstName, right.Lastname, SUM(left.Total) FROM invoices AS left \n",
    "             JOIN customers AS right ON left.CustomerId = right.CustomerId\n",
    "             GROUP BY left.CustomerId\n",
    "             ORDER BY SUM(left.Total) DESC\n",
    "             LIMIT 5\"\"\"\n",
    "cursor.execute(sql_query)\n",
    "print(\"JOIN first, filter later\")\n",
    "print(cursor.fetchall())\n",
    "\n",
    "\n",
    "print(\"\")\n",
    "\n",
    "# Filter first, JOIN later\n",
    "sql_query = \"\"\"SELECT right.FirstName, right.LastName, temp.tTotal\n",
    "            FROM (SELECT CustomerId, SUM(Total) AS tTotal FROM invoices GROUP BY CustomerId ORDER BY SUM(Total) DESC LIMIT 5) as temp\n",
    "            JOIN customers AS right ON temp.CustomerId = right.CustomerId\"\"\"\n",
    "cursor.execute(sql_query)\n",
    "print(\"Filter first, JOIN later\")\n",
    "print(cursor.fetchall())"
   ]
  },
  {
   "cell_type": "markdown",
   "metadata": {},
   "source": [
    "#### From https://www.kaggle.com/code/alaasedeeq/chinook-questions-with-sqlite/notebook\n",
    "1-Provide a query showing Customers (just their full names, customer ID and country) who are not in the US.\n",
    "2-Provide a query only showing the Customers from Brazil.\n",
    "3-Provide a query showing the Invoices of customers who are from Brazil. The resultant table should show the customer's full name, Invoice ID, Date of the invoice and billing country.\n",
    "4-Provide a query showing only the Employees who are Sales Agents.\n",
    "4-Provide a query showing a unique list of billing countries from the Invoice table.\n",
    "5-Provide a query that shows the invoices associated with each sales agent. The resultant table should include the Sales Agent's full name.¶\n",
    "6-Provide a query that shows the Invoice Total, Customer name, Country and Sale Agent name for all invoices and customers.\n",
    "7-How many Invoices were there in 2009 and 2011? What are the respective total sales for each of those years?\n",
    "8-Looking at the InvoiceLine table, provide a query that COUNTs the number of line items for Invoice ID 37.\n",
    "9-Looking at the InvoiceLine table, provide a query that COUNTs the number of line items for each Invoice.\n",
    "10-Provide a query that includes the track name with each invoice line item.\n",
    "11-Provide a query that includes the purchased track name AND artist name with each invoice line item.\n",
    "12-Provide a query that shows the number of invoices per country.\n",
    "13-Provide a query that shows the total number of tracks in each playlist. The Playlist name should be included on the resultant table.\n",
    "14-Provide a query that shows all the Tracks, but displays no IDs. The resultant table should include the Album name, Media type and Genre.\n",
    "15-Provide a query that shows all Invoices but includes the number of invoice line items.\n",
    "16-Provide a query that shows total sales made by each sales agent.\n",
    "17-Provide a query that shows the total sales per country. Which country's customers spent the most?\n",
    "18-Which sales agent made the most in sales in 2009?\n",
    "19-Which sales agent made the most in sales in 2010?\n",
    "20-Which sales agent made the most in sales over all?\n",
    "21-Provide a query that shows the most purchased track of 2013.\n",
    "22-Provide a query that shows the top 5 most purchased tracks over all.\n",
    "23-Provide a query that shows the top 3 best selling artists.\n",
    "\n",
    "\n"
   ]
  }
 ],
 "metadata": {
  "kernelspec": {
   "display_name": "Python 3",
   "language": "python",
   "name": "python3"
  },
  "language_info": {
   "codemirror_mode": {
    "name": "ipython",
    "version": 3
   },
   "file_extension": ".py",
   "mimetype": "text/x-python",
   "name": "python",
   "nbconvert_exporter": "python",
   "pygments_lexer": "ipython3",
   "version": "3.7.3"
  }
 },
 "nbformat": 4,
 "nbformat_minor": 2
}

